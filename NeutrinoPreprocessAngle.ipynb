{
 "cells": [
  {
   "cell_type": "code",
   "execution_count": 1,
   "id": "86dff4f5",
   "metadata": {},
   "outputs": [],
   "source": [
    "import json\n",
    "import time\n",
    "import matplotlib.pyplot as plt\n",
    "import numpy as np\n",
    "from IPython.display import clear_output\n",
    "\n",
    "from qiskit import QuantumCircuit\n",
    "from qiskit.circuit import ParameterVector, Parameter\n",
    "from qiskit.circuit.library import ZFeatureMap, ZZFeatureMap, RealAmplitudes, EfficientSU2\n",
    "from qiskit.quantum_info import SparsePauliOp\n",
    "from qiskit_algorithms.optimizers import COBYLA, SPSA, QNSPSA, CG, AQGD, ADAM\n",
    "from qiskit_algorithms.utils import algorithm_globals\n",
    "from qiskit_machine_learning.neural_networks import EstimatorQNN\n",
    "from qiskit_machine_learning.neural_networks import EffectiveDimension, LocalEffectiveDimension\n",
    "from qiskit_machine_learning.algorithms.classifiers import NeuralNetworkClassifier, VQC\n",
    "from qiskit_machine_learning.algorithms import QSVC\n",
    "from qiskit_machine_learning.circuit.library import RawFeatureVector\n",
    "from qiskit.primitives import Sampler\n",
    "from qiskit.primitives import StatevectorSampler\n",
    "from qiskit_algorithms.state_fidelities import ComputeUncompute\n",
    "from qiskit_machine_learning.kernels import FidelityQuantumKernel, TrainableFidelityQuantumKernel\n",
    "from qiskit_machine_learning.kernels.algorithms import QuantumKernelTrainer\n",
    "\n",
    "from qiskit_ibm_provider import IBMProvider\n",
    "#from qiskit_ibm_runtime import QiskitRuntimeService, Sampler, Session\n",
    "\n",
    "IBMProvider.save_account('44bd61e1f058fcb72f1964575350ac3254b97ab79d72e4b0744e598d30c1d12fd9464bc451621a4e53e106a693dad63565d58cfd1a0af8150addef5329b428e7', overwrite=True)\n",
    "\n",
    "from sklearn import metrics\n",
    "from sklearn.model_selection import train_test_split\n",
    "from sklearn.preprocessing import MaxAbsScaler, MinMaxScaler, PowerTransformer, QuantileTransformer, RobustScaler, StandardScaler\n",
    "from sklearn.decomposition import PCA, SparsePCA, KernelPCA\n",
    "\n",
    "import seaborn as sns"
   ]
  },
  {
   "cell_type": "code",
   "execution_count": 2,
   "id": "4efb9cde",
   "metadata": {},
   "outputs": [
    {
     "data": {
      "text/html": [
       "<div>\n",
       "<style scoped>\n",
       "    .dataframe tbody tr th:only-of-type {\n",
       "        vertical-align: middle;\n",
       "    }\n",
       "\n",
       "    .dataframe tbody tr th {\n",
       "        vertical-align: top;\n",
       "    }\n",
       "\n",
       "    .dataframe thead th {\n",
       "        text-align: right;\n",
       "    }\n",
       "</style>\n",
       "<table border=\"1\" class=\"dataframe\">\n",
       "  <thead>\n",
       "    <tr style=\"text-align: right;\">\n",
       "      <th></th>\n",
       "      <th>signal</th>\n",
       "      <th>ParticleID_0</th>\n",
       "      <th>ParticleID_1</th>\n",
       "      <th>ParticleID_2</th>\n",
       "      <th>ParticleID_3</th>\n",
       "      <th>ParticleID_4</th>\n",
       "      <th>ParticleID_5</th>\n",
       "      <th>ParticleID_6</th>\n",
       "      <th>ParticleID_7</th>\n",
       "      <th>ParticleID_8</th>\n",
       "      <th>...</th>\n",
       "      <th>ParticleID_40</th>\n",
       "      <th>ParticleID_41</th>\n",
       "      <th>ParticleID_42</th>\n",
       "      <th>ParticleID_43</th>\n",
       "      <th>ParticleID_44</th>\n",
       "      <th>ParticleID_45</th>\n",
       "      <th>ParticleID_46</th>\n",
       "      <th>ParticleID_47</th>\n",
       "      <th>ParticleID_48</th>\n",
       "      <th>ParticleID_49</th>\n",
       "    </tr>\n",
       "  </thead>\n",
       "  <tbody>\n",
       "    <tr>\n",
       "      <th>0</th>\n",
       "      <td>b'True'</td>\n",
       "      <td>2.59413</td>\n",
       "      <td>0.468803</td>\n",
       "      <td>20.6916</td>\n",
       "      <td>0.322648</td>\n",
       "      <td>0.009682</td>\n",
       "      <td>0.374393</td>\n",
       "      <td>0.803479</td>\n",
       "      <td>0.896592</td>\n",
       "      <td>3.59665</td>\n",
       "      <td>...</td>\n",
       "      <td>101.174</td>\n",
       "      <td>-31.3730</td>\n",
       "      <td>0.442259</td>\n",
       "      <td>5.86453</td>\n",
       "      <td>0.000000</td>\n",
       "      <td>0.090519</td>\n",
       "      <td>0.176909</td>\n",
       "      <td>0.457585</td>\n",
       "      <td>0.071769</td>\n",
       "      <td>0.245996</td>\n",
       "    </tr>\n",
       "    <tr>\n",
       "      <th>1</th>\n",
       "      <td>b'True'</td>\n",
       "      <td>3.86388</td>\n",
       "      <td>0.645781</td>\n",
       "      <td>18.1375</td>\n",
       "      <td>0.233529</td>\n",
       "      <td>0.030733</td>\n",
       "      <td>0.361239</td>\n",
       "      <td>1.069740</td>\n",
       "      <td>0.878714</td>\n",
       "      <td>3.59243</td>\n",
       "      <td>...</td>\n",
       "      <td>186.516</td>\n",
       "      <td>45.9597</td>\n",
       "      <td>-0.478507</td>\n",
       "      <td>6.11126</td>\n",
       "      <td>0.001182</td>\n",
       "      <td>0.091800</td>\n",
       "      <td>-0.465572</td>\n",
       "      <td>0.935523</td>\n",
       "      <td>0.333613</td>\n",
       "      <td>0.230621</td>\n",
       "    </tr>\n",
       "    <tr>\n",
       "      <th>2</th>\n",
       "      <td>b'True'</td>\n",
       "      <td>3.38584</td>\n",
       "      <td>1.197140</td>\n",
       "      <td>36.0807</td>\n",
       "      <td>0.200866</td>\n",
       "      <td>0.017341</td>\n",
       "      <td>0.260841</td>\n",
       "      <td>1.108950</td>\n",
       "      <td>0.884405</td>\n",
       "      <td>3.43159</td>\n",
       "      <td>...</td>\n",
       "      <td>129.931</td>\n",
       "      <td>-11.5608</td>\n",
       "      <td>-0.297008</td>\n",
       "      <td>8.27204</td>\n",
       "      <td>0.003854</td>\n",
       "      <td>0.141721</td>\n",
       "      <td>-0.210559</td>\n",
       "      <td>1.013450</td>\n",
       "      <td>0.255512</td>\n",
       "      <td>0.180901</td>\n",
       "    </tr>\n",
       "    <tr>\n",
       "      <th>3</th>\n",
       "      <td>b'True'</td>\n",
       "      <td>4.28524</td>\n",
       "      <td>0.510155</td>\n",
       "      <td>674.2010</td>\n",
       "      <td>0.281923</td>\n",
       "      <td>0.009174</td>\n",
       "      <td>0.000000</td>\n",
       "      <td>0.998822</td>\n",
       "      <td>0.823390</td>\n",
       "      <td>3.16382</td>\n",
       "      <td>...</td>\n",
       "      <td>163.978</td>\n",
       "      <td>-18.4586</td>\n",
       "      <td>0.453886</td>\n",
       "      <td>2.48112</td>\n",
       "      <td>0.000000</td>\n",
       "      <td>0.180938</td>\n",
       "      <td>0.407968</td>\n",
       "      <td>4.341270</td>\n",
       "      <td>0.473081</td>\n",
       "      <td>0.258990</td>\n",
       "    </tr>\n",
       "    <tr>\n",
       "      <th>4</th>\n",
       "      <td>b'True'</td>\n",
       "      <td>5.93662</td>\n",
       "      <td>0.832993</td>\n",
       "      <td>59.8796</td>\n",
       "      <td>0.232853</td>\n",
       "      <td>0.025066</td>\n",
       "      <td>0.233556</td>\n",
       "      <td>1.370040</td>\n",
       "      <td>0.787424</td>\n",
       "      <td>3.66546</td>\n",
       "      <td>...</td>\n",
       "      <td>229.555</td>\n",
       "      <td>42.9600</td>\n",
       "      <td>-0.975752</td>\n",
       "      <td>2.66109</td>\n",
       "      <td>0.000000</td>\n",
       "      <td>0.170836</td>\n",
       "      <td>-0.814403</td>\n",
       "      <td>4.679490</td>\n",
       "      <td>1.924990</td>\n",
       "      <td>0.253893</td>\n",
       "    </tr>\n",
       "  </tbody>\n",
       "</table>\n",
       "<p>5 rows × 51 columns</p>\n",
       "</div>"
      ],
      "text/plain": [
       "    signal  ParticleID_0  ParticleID_1  ParticleID_2  ParticleID_3  \\\n",
       "0  b'True'       2.59413      0.468803       20.6916      0.322648   \n",
       "1  b'True'       3.86388      0.645781       18.1375      0.233529   \n",
       "2  b'True'       3.38584      1.197140       36.0807      0.200866   \n",
       "3  b'True'       4.28524      0.510155      674.2010      0.281923   \n",
       "4  b'True'       5.93662      0.832993       59.8796      0.232853   \n",
       "\n",
       "   ParticleID_4  ParticleID_5  ParticleID_6  ParticleID_7  ParticleID_8  ...  \\\n",
       "0      0.009682      0.374393      0.803479      0.896592       3.59665  ...   \n",
       "1      0.030733      0.361239      1.069740      0.878714       3.59243  ...   \n",
       "2      0.017341      0.260841      1.108950      0.884405       3.43159  ...   \n",
       "3      0.009174      0.000000      0.998822      0.823390       3.16382  ...   \n",
       "4      0.025066      0.233556      1.370040      0.787424       3.66546  ...   \n",
       "\n",
       "   ParticleID_40  ParticleID_41  ParticleID_42  ParticleID_43  ParticleID_44  \\\n",
       "0        101.174       -31.3730       0.442259        5.86453       0.000000   \n",
       "1        186.516        45.9597      -0.478507        6.11126       0.001182   \n",
       "2        129.931       -11.5608      -0.297008        8.27204       0.003854   \n",
       "3        163.978       -18.4586       0.453886        2.48112       0.000000   \n",
       "4        229.555        42.9600      -0.975752        2.66109       0.000000   \n",
       "\n",
       "   ParticleID_45  ParticleID_46  ParticleID_47  ParticleID_48  ParticleID_49  \n",
       "0       0.090519       0.176909       0.457585       0.071769       0.245996  \n",
       "1       0.091800      -0.465572       0.935523       0.333613       0.230621  \n",
       "2       0.141721      -0.210559       1.013450       0.255512       0.180901  \n",
       "3       0.180938       0.407968       4.341270       0.473081       0.258990  \n",
       "4       0.170836      -0.814403       4.679490       1.924990       0.253893  \n",
       "\n",
       "[5 rows x 51 columns]"
      ]
     },
     "execution_count": 2,
     "metadata": {},
     "output_type": "execute_result"
    }
   ],
   "source": [
    "from scipy.io import arff\n",
    "import pandas as pd\n",
    "\n",
    "data = arff.loadarff('MiniBooNE.arff')\n",
    "data = data[0]\n",
    "df = pd.DataFrame(data)\n",
    "\n",
    "df.head()"
   ]
  },
  {
   "cell_type": "code",
   "execution_count": 3,
   "id": "462064b0",
   "metadata": {},
   "outputs": [],
   "source": [
    "features = df.drop('signal', axis=1)\n",
    "labels = df['signal']\n",
    "\n",
    "labels_new = []  \n",
    "\n",
    "for i in range(len(labels)):\n",
    "    if labels[i] == b'True':\n",
    "        labels_new.append(1)\n",
    "    else:\n",
    "        labels_new.append(0)\n",
    "        \n",
    "labels_new = np.array(labels_new)"
   ]
  },
  {
   "cell_type": "code",
   "execution_count": 4,
   "id": "9b1e7a93",
   "metadata": {},
   "outputs": [],
   "source": [
    "feature_space = 7\n",
    "\n",
    "features = MaxAbsScaler().fit_transform(features)\n",
    "\n",
    "features = PCA(n_components=feature_space).fit_transform(features)"
   ]
  },
  {
   "cell_type": "code",
   "execution_count": 5,
   "id": "48f49ca1",
   "metadata": {},
   "outputs": [],
   "source": [
    "from sklearn.model_selection import train_test_split\n",
    "from qiskit_algorithms.utils import algorithm_globals\n",
    "\n",
    "algorithm_globals.random_seed = 123\n",
    "\n",
    "train_features, test_features, train_labels, test_labels = train_test_split(\n",
    "    features, labels_new, train_size=0.7, random_state=algorithm_globals.random_seed)"
   ]
  },
  {
   "cell_type": "code",
   "execution_count": 6,
   "id": "e3c7047b",
   "metadata": {},
   "outputs": [],
   "source": [
    "train_features, test_features, train_labels, test_labels = train_features[:7000], test_features[:3000], train_labels[:7000], test_labels[:3000]"
   ]
  },
  {
   "cell_type": "markdown",
   "id": "ee659a9e",
   "metadata": {},
   "source": [
    "### Quantum ML"
   ]
  },
  {
   "cell_type": "markdown",
   "id": "4842b9f6",
   "metadata": {},
   "source": [
    "### VQC"
   ]
  },
  {
   "cell_type": "code",
   "execution_count": 7,
   "id": "eca8cbb9",
   "metadata": {},
   "outputs": [],
   "source": [
    "def evaluateVQC(y_test,y_pred):\n",
    "    cnf_matrix=metrics.confusion_matrix(y_test,y_pred)\n",
    "    print('The confusion matrix for the given model is: ')\n",
    "    print(cnf_matrix)\n",
    "    print('accuracy : ',metrics.accuracy_score(y_test,y_pred))\n",
    "    print('precision : ',metrics.precision_score(y_test,y_pred))\n",
    "    print('recall : ',metrics.recall_score(y_test,y_pred))"
   ]
  },
  {
   "cell_type": "markdown",
   "id": "22076786",
   "metadata": {},
   "source": [
    "#### Angle Encoding"
   ]
  },
  {
   "cell_type": "code",
   "execution_count": 8,
   "id": "fb947223",
   "metadata": {},
   "outputs": [],
   "source": [
    "qc_angle = ZZFeatureMap(feature_dimension=feature_space,reps=1)"
   ]
  },
  {
   "cell_type": "code",
   "execution_count": 9,
   "id": "d9f64315",
   "metadata": {},
   "outputs": [],
   "source": [
    "ansatz_angle = RealAmplitudes(num_qubits=feature_space, reps=5, parameter_prefix='θ')"
   ]
  },
  {
   "cell_type": "code",
   "execution_count": 10,
   "id": "4ef936a6",
   "metadata": {},
   "outputs": [],
   "source": [
    "sampler = Sampler()\n",
    "\n",
    "optimizer = COBYLA(maxiter=500)\n",
    "\n",
    "objective_func_vals = []\n",
    "plt.rcParams[\"figure.figsize\"] = (12, 6)\n",
    "\n",
    "def callback_graph(weights, obj_func_eval):\n",
    "    clear_output(wait=True)\n",
    "    objective_func_vals.append(obj_func_eval)\n",
    "    plt.title(\"Objective function value against iteration\")\n",
    "    plt.xlabel(\"Iteration\")\n",
    "    plt.ylabel(\"Objective function value\")\n",
    "    plt.plot(range(len(objective_func_vals)), objective_func_vals)\n",
    "    plt.show()"
   ]
  },
  {
   "cell_type": "code",
   "execution_count": 11,
   "id": "b7135e30",
   "metadata": {
    "scrolled": false
   },
   "outputs": [
    {
     "data": {
      "image/png": "[encoded data removed]",
      "text/plain": [
       "<Figure size 1200x600 with 1 Axes>"
      ]
     },
     "metadata": {},
     "output_type": "display_data"
    },
    {
     "name": "stdout",
     "output_type": "stream",
     "text": [
      "Training time: 12477 seconds\n"
     ]
    }
   ],
   "source": [
    "vqc_angle = VQC(\n",
    "    sampler=sampler,\n",
    "    feature_map=qc_angle,\n",
    "    ansatz=ansatz_angle,\n",
    "    optimizer=optimizer,\n",
    "    callback=callback_graph,\n",
    ")\n",
    "\n",
    "# clear objective value history\n",
    "objective_func_vals = []\n",
    "\n",
    "start = time.time()\n",
    "vqc_angle.fit(train_features, train_labels)\n",
    "elapsed = time.time() - start\n",
    "\n",
    "print(f\"Training time: {round(elapsed)} seconds\")"
   ]
  },
  {
   "cell_type": "code",
   "execution_count": 12,
   "id": "91b65068",
   "metadata": {},
   "outputs": [
    {
     "name": "stdout",
     "output_type": "stream",
     "text": [
      "Quantum VQC on the training dataset: 0.74\n",
      "Quantum VQC on the test dataset:     0.76\n"
     ]
    }
   ],
   "source": [
    "train_score_q_angle = vqc_angle.score(train_features, train_labels)\n",
    "test_score_q_angle = vqc_angle.score(test_features, test_labels)\n",
    "\n",
    "print(f\"Quantum VQC on the training dataset: {train_score_q_angle:.2f}\")\n",
    "print(f\"Quantum VQC on the test dataset:     {test_score_q_angle:.2f}\")"
   ]
  },
  {
   "cell_type": "code",
   "execution_count": 13,
   "id": "9af7450f",
   "metadata": {
    "scrolled": true
   },
   "outputs": [
    {
     "name": "stdout",
     "output_type": "stream",
     "text": [
      "The confusion matrix for the given model is: \n",
      "[[2202    2]\n",
      " [ 720   76]]\n",
      "accuracy :  0.7593333333333333\n",
      "precision :  0.9743589743589743\n",
      "recall :  0.09547738693467336\n"
     ]
    }
   ],
   "source": [
    "angle_y_pred = vqc_angle.predict(test_features)\n",
    "# evaluate the model\n",
    "evaluateVQC(test_labels, angle_y_pred)"
   ]
  },
  {
   "cell_type": "code",
   "execution_count": 14,
   "id": "61da37cb",
   "metadata": {},
   "outputs": [],
   "source": [
    "ofv = objective_func_vals\n",
    "true = test_labels\n",
    "pred = angle_y_pred\n",
    "\n",
    "np.savetxt(\"ofvZZ.csv\", true, delimiter = \",\")\n",
    "np.savetxt(\"TrueZZ.csv\", true, delimiter = \",\")\n",
    "np.savetxt(\"PredZZ.csv\", pred, delimiter = \",\")"
   ]
  }
 ],
 "metadata": {
  "kernelspec": {
   "display_name": "Qiskit New",
   "language": "python",
   "name": "qiskit-stable"
  },
  "language_info": {
   "codemirror_mode": {
    "name": "ipython",
    "version": 3
   },
   "file_extension": ".py",
   "mimetype": "text/x-python",
   "name": "python",
   "nbconvert_exporter": "python",
   "pygments_lexer": "ipython3",
   "version": "3.11.8"
  }
 },
 "nbformat": 4,
 "nbformat_minor": 5
}
