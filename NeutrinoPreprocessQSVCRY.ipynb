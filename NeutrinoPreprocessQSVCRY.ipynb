{
 "cells": [
  {
   "cell_type": "code",
   "execution_count": 1,
   "id": "86dff4f5",
   "metadata": {},
   "outputs": [],
   "source": [
    "import json\n",
    "import time\n",
    "import matplotlib.pyplot as plt\n",
    "import numpy as np\n",
    "from IPython.display import clear_output\n",
    "\n",
    "from qiskit import QuantumCircuit\n",
    "from qiskit.circuit import ParameterVector, Parameter\n",
    "from qiskit.circuit.library import ZFeatureMap, ZZFeatureMap, RealAmplitudes, EfficientSU2\n",
    "from qiskit.quantum_info import SparsePauliOp\n",
    "from qiskit_algorithms.optimizers import COBYLA, SPSA, QNSPSA, CG, AQGD, ADAM\n",
    "from qiskit_algorithms.utils import algorithm_globals\n",
    "from qiskit_machine_learning.neural_networks import EstimatorQNN\n",
    "from qiskit_machine_learning.neural_networks import EffectiveDimension, LocalEffectiveDimension\n",
    "from qiskit_machine_learning.algorithms.classifiers import NeuralNetworkClassifier, VQC\n",
    "from qiskit_machine_learning.algorithms import QSVC\n",
    "from qiskit_machine_learning.circuit.library import RawFeatureVector\n",
    "from qiskit.primitives import Sampler\n",
    "from qiskit.primitives import StatevectorSampler\n",
    "from qiskit_algorithms.state_fidelities import ComputeUncompute\n",
    "from qiskit_machine_learning.kernels import FidelityQuantumKernel, TrainableFidelityQuantumKernel\n",
    "from qiskit_machine_learning.kernels.algorithms import QuantumKernelTrainer\n",
    "\n",
    "from qiskit_ibm_provider import IBMProvider\n",
    "#from qiskit_ibm_runtime import QiskitRuntimeService, Sampler, Session\n",
    "\n",
    "IBMProvider.save_account('44bd61e1f058fcb72f1964575350ac3254b97ab79d72e4b0744e598d30c1d12fd9464bc451621a4e53e106a693dad63565d58cfd1a0af8150addef5329b428e7', overwrite=True)\n",
    "\n",
    "from sklearn import metrics\n",
    "from sklearn.model_selection import train_test_split\n",
    "from sklearn.preprocessing import MaxAbsScaler, MinMaxScaler, PowerTransformer, QuantileTransformer, RobustScaler, StandardScaler\n",
    "from sklearn.decomposition import PCA, SparsePCA, KernelPCA\n",
    "\n",
    "import seaborn as sns"
   ]
  },
  {
   "cell_type": "code",
   "execution_count": 2,
   "id": "4efb9cde",
   "metadata": {},
   "outputs": [
    {
     "data": {
      "text/html": [
       "<div>\n",
       "<style scoped>\n",
       "    .dataframe tbody tr th:only-of-type {\n",
       "        vertical-align: middle;\n",
       "    }\n",
       "\n",
       "    .dataframe tbody tr th {\n",
       "        vertical-align: top;\n",
       "    }\n",
       "\n",
       "    .dataframe thead th {\n",
       "        text-align: right;\n",
       "    }\n",
       "</style>\n",
       "<table border=\"1\" class=\"dataframe\">\n",
       "  <thead>\n",
       "    <tr style=\"text-align: right;\">\n",
       "      <th></th>\n",
       "      <th>signal</th>\n",
       "      <th>ParticleID_0</th>\n",
       "      <th>ParticleID_1</th>\n",
       "      <th>ParticleID_2</th>\n",
       "      <th>ParticleID_3</th>\n",
       "      <th>ParticleID_4</th>\n",
       "      <th>ParticleID_5</th>\n",
       "      <th>ParticleID_6</th>\n",
       "      <th>ParticleID_7</th>\n",
       "      <th>ParticleID_8</th>\n",
       "      <th>...</th>\n",
       "      <th>ParticleID_40</th>\n",
       "      <th>ParticleID_41</th>\n",
       "      <th>ParticleID_42</th>\n",
       "      <th>ParticleID_43</th>\n",
       "      <th>ParticleID_44</th>\n",
       "      <th>ParticleID_45</th>\n",
       "      <th>ParticleID_46</th>\n",
       "      <th>ParticleID_47</th>\n",
       "      <th>ParticleID_48</th>\n",
       "      <th>ParticleID_49</th>\n",
       "    </tr>\n",
       "  </thead>\n",
       "  <tbody>\n",
       "    <tr>\n",
       "      <th>0</th>\n",
       "      <td>b'True'</td>\n",
       "      <td>2.59413</td>\n",
       "      <td>0.468803</td>\n",
       "      <td>20.6916</td>\n",
       "      <td>0.322648</td>\n",
       "      <td>0.009682</td>\n",
       "      <td>0.374393</td>\n",
       "      <td>0.803479</td>\n",
       "      <td>0.896592</td>\n",
       "      <td>3.59665</td>\n",
       "      <td>...</td>\n",
       "      <td>101.174</td>\n",
       "      <td>-31.3730</td>\n",
       "      <td>0.442259</td>\n",
       "      <td>5.86453</td>\n",
       "      <td>0.000000</td>\n",
       "      <td>0.090519</td>\n",
       "      <td>0.176909</td>\n",
       "      <td>0.457585</td>\n",
       "      <td>0.071769</td>\n",
       "      <td>0.245996</td>\n",
       "    </tr>\n",
       "    <tr>\n",
       "      <th>1</th>\n",
       "      <td>b'True'</td>\n",
       "      <td>3.86388</td>\n",
       "      <td>0.645781</td>\n",
       "      <td>18.1375</td>\n",
       "      <td>0.233529</td>\n",
       "      <td>0.030733</td>\n",
       "      <td>0.361239</td>\n",
       "      <td>1.069740</td>\n",
       "      <td>0.878714</td>\n",
       "      <td>3.59243</td>\n",
       "      <td>...</td>\n",
       "      <td>186.516</td>\n",
       "      <td>45.9597</td>\n",
       "      <td>-0.478507</td>\n",
       "      <td>6.11126</td>\n",
       "      <td>0.001182</td>\n",
       "      <td>0.091800</td>\n",
       "      <td>-0.465572</td>\n",
       "      <td>0.935523</td>\n",
       "      <td>0.333613</td>\n",
       "      <td>0.230621</td>\n",
       "    </tr>\n",
       "    <tr>\n",
       "      <th>2</th>\n",
       "      <td>b'True'</td>\n",
       "      <td>3.38584</td>\n",
       "      <td>1.197140</td>\n",
       "      <td>36.0807</td>\n",
       "      <td>0.200866</td>\n",
       "      <td>0.017341</td>\n",
       "      <td>0.260841</td>\n",
       "      <td>1.108950</td>\n",
       "      <td>0.884405</td>\n",
       "      <td>3.43159</td>\n",
       "      <td>...</td>\n",
       "      <td>129.931</td>\n",
       "      <td>-11.5608</td>\n",
       "      <td>-0.297008</td>\n",
       "      <td>8.27204</td>\n",
       "      <td>0.003854</td>\n",
       "      <td>0.141721</td>\n",
       "      <td>-0.210559</td>\n",
       "      <td>1.013450</td>\n",
       "      <td>0.255512</td>\n",
       "      <td>0.180901</td>\n",
       "    </tr>\n",
       "    <tr>\n",
       "      <th>3</th>\n",
       "      <td>b'True'</td>\n",
       "      <td>4.28524</td>\n",
       "      <td>0.510155</td>\n",
       "      <td>674.2010</td>\n",
       "      <td>0.281923</td>\n",
       "      <td>0.009174</td>\n",
       "      <td>0.000000</td>\n",
       "      <td>0.998822</td>\n",
       "      <td>0.823390</td>\n",
       "      <td>3.16382</td>\n",
       "      <td>...</td>\n",
       "      <td>163.978</td>\n",
       "      <td>-18.4586</td>\n",
       "      <td>0.453886</td>\n",
       "      <td>2.48112</td>\n",
       "      <td>0.000000</td>\n",
       "      <td>0.180938</td>\n",
       "      <td>0.407968</td>\n",
       "      <td>4.341270</td>\n",
       "      <td>0.473081</td>\n",
       "      <td>0.258990</td>\n",
       "    </tr>\n",
       "    <tr>\n",
       "      <th>4</th>\n",
       "      <td>b'True'</td>\n",
       "      <td>5.93662</td>\n",
       "      <td>0.832993</td>\n",
       "      <td>59.8796</td>\n",
       "      <td>0.232853</td>\n",
       "      <td>0.025066</td>\n",
       "      <td>0.233556</td>\n",
       "      <td>1.370040</td>\n",
       "      <td>0.787424</td>\n",
       "      <td>3.66546</td>\n",
       "      <td>...</td>\n",
       "      <td>229.555</td>\n",
       "      <td>42.9600</td>\n",
       "      <td>-0.975752</td>\n",
       "      <td>2.66109</td>\n",
       "      <td>0.000000</td>\n",
       "      <td>0.170836</td>\n",
       "      <td>-0.814403</td>\n",
       "      <td>4.679490</td>\n",
       "      <td>1.924990</td>\n",
       "      <td>0.253893</td>\n",
       "    </tr>\n",
       "  </tbody>\n",
       "</table>\n",
       "<p>5 rows × 51 columns</p>\n",
       "</div>"
      ],
      "text/plain": [
       "    signal  ParticleID_0  ParticleID_1  ParticleID_2  ParticleID_3  \\\n",
       "0  b'True'       2.59413      0.468803       20.6916      0.322648   \n",
       "1  b'True'       3.86388      0.645781       18.1375      0.233529   \n",
       "2  b'True'       3.38584      1.197140       36.0807      0.200866   \n",
       "3  b'True'       4.28524      0.510155      674.2010      0.281923   \n",
       "4  b'True'       5.93662      0.832993       59.8796      0.232853   \n",
       "\n",
       "   ParticleID_4  ParticleID_5  ParticleID_6  ParticleID_7  ParticleID_8  ...  \\\n",
       "0      0.009682      0.374393      0.803479      0.896592       3.59665  ...   \n",
       "1      0.030733      0.361239      1.069740      0.878714       3.59243  ...   \n",
       "2      0.017341      0.260841      1.108950      0.884405       3.43159  ...   \n",
       "3      0.009174      0.000000      0.998822      0.823390       3.16382  ...   \n",
       "4      0.025066      0.233556      1.370040      0.787424       3.66546  ...   \n",
       "\n",
       "   ParticleID_40  ParticleID_41  ParticleID_42  ParticleID_43  ParticleID_44  \\\n",
       "0        101.174       -31.3730       0.442259        5.86453       0.000000   \n",
       "1        186.516        45.9597      -0.478507        6.11126       0.001182   \n",
       "2        129.931       -11.5608      -0.297008        8.27204       0.003854   \n",
       "3        163.978       -18.4586       0.453886        2.48112       0.000000   \n",
       "4        229.555        42.9600      -0.975752        2.66109       0.000000   \n",
       "\n",
       "   ParticleID_45  ParticleID_46  ParticleID_47  ParticleID_48  ParticleID_49  \n",
       "0       0.090519       0.176909       0.457585       0.071769       0.245996  \n",
       "1       0.091800      -0.465572       0.935523       0.333613       0.230621  \n",
       "2       0.141721      -0.210559       1.013450       0.255512       0.180901  \n",
       "3       0.180938       0.407968       4.341270       0.473081       0.258990  \n",
       "4       0.170836      -0.814403       4.679490       1.924990       0.253893  \n",
       "\n",
       "[5 rows x 51 columns]"
      ]
     },
     "execution_count": 2,
     "metadata": {},
     "output_type": "execute_result"
    }
   ],
   "source": [
    "from scipy.io import arff\n",
    "import pandas as pd\n",
    "\n",
    "data = arff.loadarff('MiniBooNE.arff')\n",
    "data = data[0]\n",
    "df = pd.DataFrame(data)\n",
    "\n",
    "df.head()"
   ]
  },
  {
   "cell_type": "code",
   "execution_count": 3,
   "id": "462064b0",
   "metadata": {},
   "outputs": [],
   "source": [
    "features = df.drop('signal', axis=1)\n",
    "labels = df['signal']\n",
    "\n",
    "labels_new = []  \n",
    "\n",
    "for i in range(len(labels)):\n",
    "    if labels[i] == b'True':\n",
    "        labels_new.append(1)\n",
    "    else:\n",
    "        labels_new.append(0)\n",
    "        \n",
    "labels_new = np.array(labels_new)"
   ]
  },
  {
   "cell_type": "code",
   "execution_count": 4,
   "id": "9b1e7a93",
   "metadata": {},
   "outputs": [],
   "source": [
    "feature_space = 5\n",
    "\n",
    "features = StandardScaler().fit_transform(features)\n",
    "\n",
    "features = PCA(n_components=feature_space).fit_transform(features)"
   ]
  },
  {
   "cell_type": "code",
   "execution_count": 5,
   "id": "48f49ca1",
   "metadata": {},
   "outputs": [],
   "source": [
    "from sklearn.model_selection import train_test_split\n",
    "from qiskit_algorithms.utils import algorithm_globals\n",
    "\n",
    "algorithm_globals.random_seed = 123\n",
    "\n",
    "train_features, test_features, train_labels, test_labels = train_test_split(\n",
    "    features, labels_new, train_size=0.7, random_state=algorithm_globals.random_seed)"
   ]
  },
  {
   "cell_type": "code",
   "execution_count": 6,
   "id": "0dcf666e",
   "metadata": {},
   "outputs": [],
   "source": [
    "train_features, test_features, train_labels, test_labels = train_features[:7000], test_features[:3000], train_labels[:7000], test_labels[:3000]"
   ]
  },
  {
   "cell_type": "code",
   "execution_count": 7,
   "id": "794c3121",
   "metadata": {},
   "outputs": [],
   "source": [
    "def evaluate(y_test,y_pred,y_pred_proba):\n",
    "    cnf_matrix=metrics.confusion_matrix(y_test,y_pred)\n",
    "    print('The confusion matrix for the given model is: ')\n",
    "    print(cnf_matrix)\n",
    "    print('accuracy : ',metrics.accuracy_score(y_test,y_pred))\n",
    "    print('precision : ',metrics.precision_score(y_test,y_pred))\n",
    "    print('recall : ',metrics.recall_score(y_test,y_pred))\n",
    "    fpr, tpr, _ = metrics.roc_curve(y_test,  y_pred_proba)\n",
    "    auc = metrics.roc_auc_score(y_test, y_pred_proba)\n",
    "    plt.figure()\n",
    "    plt.plot(fpr,tpr,label='Area under the curve= '+str(auc))\n",
    "    plt.legend(loc=4)\n",
    "    plt.title('ROC curve')\n",
    "    plt.xlabel('False positive rate')\n",
    "    plt.ylabel('True Positive rate')"
   ]
  },
  {
   "cell_type": "code",
   "execution_count": 8,
   "id": "ae19ee66",
   "metadata": {},
   "outputs": [
    {
     "name": "stdout",
     "output_type": "stream",
     "text": [
      "Training time: 2 seconds\n"
     ]
    }
   ],
   "source": [
    "from sklearn.svm import SVC\n",
    "\n",
    "start = time.time()\n",
    "svc = SVC(probability=True)\n",
    "_ = svc.fit(train_features, train_labels)\n",
    "elapsed = time.time() - start\n",
    "\n",
    "print(f\"Training time: {round(elapsed)} seconds\")"
   ]
  },
  {
   "cell_type": "code",
   "execution_count": 9,
   "id": "7bef67bc",
   "metadata": {},
   "outputs": [
    {
     "name": "stdout",
     "output_type": "stream",
     "text": [
      "Classical SVC on the training dataset: 0.87\n",
      "Classical SVC on the test dataset:     0.87\n"
     ]
    }
   ],
   "source": [
    "train_score_c = svc.score(train_features, train_labels)\n",
    "test_score_c = svc.score(test_features, test_labels)\n",
    "\n",
    "print(f\"Classical SVC on the training dataset: {train_score_c:.2f}\")\n",
    "print(f\"Classical SVC on the test dataset:     {test_score_c:.2f}\")"
   ]
  },
  {
   "cell_type": "code",
   "execution_count": 10,
   "id": "e6cdc336",
   "metadata": {},
   "outputs": [
    {
     "name": "stdout",
     "output_type": "stream",
     "text": [
      "The confusion matrix for the given model is: \n",
      "[[2083  121]\n",
      " [ 270  526]]\n",
      "accuracy :  0.8696666666666667\n",
      "precision :  0.8129829984544049\n",
      "recall :  0.6608040201005025\n"
     ]
    },
    {
     "data": {
      "image/png": "[encoded data removed]",
      "text/plain": [
       "<Figure size 640x480 with 1 Axes>"
      ]
     },
     "metadata": {},
     "output_type": "display_data"
    }
   ],
   "source": [
    "c_y_pred = svc.predict(test_features)\n",
    "c_y_pred_proba = svc.predict_proba(test_features)[::,1]\n",
    "\n",
    "# evaluate the model\n",
    "evaluate(test_labels, c_y_pred, c_y_pred_proba)"
   ]
  },
  {
   "cell_type": "markdown",
   "id": "4842b9f6",
   "metadata": {},
   "source": [
    "### VQC"
   ]
  },
  {
   "cell_type": "markdown",
   "id": "22076786",
   "metadata": {},
   "source": [
    "#### Angle Encoding"
   ]
  },
  {
   "cell_type": "code",
   "execution_count": 11,
   "id": "fb947223",
   "metadata": {},
   "outputs": [
    {
     "data": {
      "text/plain": [
       "<qiskit.circuit.instructionset.InstructionSet at 0x309de0dc0>"
      ]
     },
     "execution_count": 11,
     "metadata": {},
     "output_type": "execute_result"
    }
   ],
   "source": [
    "num_features = features.shape[1]\n",
    "\n",
    "params = ParameterVector(\"input\", feature_space)\n",
    "qc_angle = QuantumCircuit(feature_space)\n",
    "\n",
    "qc_angle.ry(params[0], [0])\n",
    "qc_angle.ry(params[1], [1])\n",
    "qc_angle.ry(params[2], [2])\n",
    "qc_angle.ry(params[3], [3])\n",
    "qc_angle.ry(params[4], [4])"
   ]
  },
  {
   "cell_type": "markdown",
   "id": "66f7d52c",
   "metadata": {},
   "source": [
    "### QSVC"
   ]
  },
  {
   "cell_type": "code",
   "execution_count": 12,
   "id": "6d300e01",
   "metadata": {},
   "outputs": [],
   "source": [
    "sampler = Sampler()\n",
    "\n",
    "fidelity = ComputeUncompute(sampler=sampler)\n",
    "\n",
    "kernel_angle = FidelityQuantumKernel(fidelity=fidelity, feature_map=qc_angle)"
   ]
  },
  {
   "cell_type": "code",
   "execution_count": null,
   "id": "dffc7f17",
   "metadata": {},
   "outputs": [],
   "source": [
    "qsvc_angle = QSVC(quantum_kernel=kernel_angle, probability=True) #angle not amplitude\n",
    "\n",
    "start = time.time()\n",
    "qsvc_angle.fit(train_features, train_labels)\n",
    "elapsed = time.time() - start\n",
    "\n",
    "print(f\"Training time: {round(elapsed)} seconds\")\n",
    "print()\n",
    "\n",
    "qsvc_angle_score_train = qsvc_angle.score(train_features, train_labels)\n",
    "qsvc_angle_score = qsvc_angle.score(test_features, test_labels)\n",
    "\n",
    "print(f\"QSVC classification train score: {qsvc_angle_score_train}\")\n",
    "print(f\"QSVC classification test score: {qsvc_angle_score}\")"
   ]
  },
  {
   "cell_type": "code",
   "execution_count": null,
   "id": "828305d7",
   "metadata": {},
   "outputs": [],
   "source": [
    "q_y_pred_angle = qsvc_angle.predict(test_features)\n",
    "q_y_pred_proba_angle = qsvc_angle.predict_proba(test_features)[::,1]"
   ]
  },
  {
   "cell_type": "code",
   "execution_count": null,
   "id": "a4cc8dac",
   "metadata": {},
   "outputs": [],
   "source": [
    "true = test_labels\n",
    "pred = q_y_pred_angle\n",
    "prob = q_y_pred_proba_angle\n",
    "\n",
    "np.savetxt(\"qsvcTrueRY.csv\", true, delimiter = \",\")\n",
    "np.savetxt(\"qsvcPredictionRY.csv\", pred, delimiter = \",\")\n",
    "np.savetxt(\"qsvcProbabilitiesRY.csv\", prob, delimiter = \",\")"
   ]
  },
  {
   "cell_type": "code",
   "execution_count": null,
   "id": "da363e54",
   "metadata": {},
   "outputs": [],
   "source": [
    "evaluate(test_labels, q_y_pred_angle, q_y_pred_proba_angle)"
   ]
  },
  {
   "cell_type": "code",
   "execution_count": null,
   "id": "0c1a9de4",
   "metadata": {},
   "outputs": [],
   "source": [
    "q_fpr, q_tpr, _ = metrics.roc_curve(test_labels,  q_y_pred_proba_angle)\n",
    "q_auc = metrics.roc_auc_score(test_labels, q_y_pred_proba_angle)\n",
    "c_fpr, c_tpr, _ = metrics.roc_curve(test_labels,  c_y_pred_proba)\n",
    "c_auc = metrics.roc_auc_score(test_labels, c_y_pred_proba)\n",
    "\n",
    "xy = [0,1]\n",
    "\n",
    "plt.rcParams[\"figure.figsize\"] = (10, 8)\n",
    "\n",
    "plt.figure()\n",
    "plt.plot(q_fpr, q_tpr,label='Area under the curve (QSVC)= '+str(q_auc))\n",
    "plt.plot(c_fpr, c_tpr,label='Area under the curve (SVC)= '+str(c_auc))\n",
    "plt.plot(xy, xy, linestyle='--', label = 'Random Classifier')\n",
    "plt.legend(loc=4)\n",
    "plt.title('ROC curve')\n",
    "plt.xlabel('False positive rate')\n",
    "plt.ylabel('True Positive rate')"
   ]
  }
 ],
 "metadata": {
  "kernelspec": {
   "display_name": "Qiskit New",
   "language": "python",
   "name": "qiskit-stable"
  },
  "language_info": {
   "codemirror_mode": {
    "name": "ipython",
    "version": 3
   },
   "file_extension": ".py",
   "mimetype": "text/x-python",
   "name": "python",
   "nbconvert_exporter": "python",
   "pygments_lexer": "ipython3",
   "version": "3.11.8"
  }
 },
 "nbformat": 4,
 "nbformat_minor": 5
}
